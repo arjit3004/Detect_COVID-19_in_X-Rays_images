
  {
   "cell_type": "code",
   "execution_count": 0,
   "metadata": {
    "colab": {},
    "colab_type": "code",
    "id": "s_PLn-69ZqrY"
   },
   "outputs": [],
   "source": [
    "train_path = \"data/train\"\n",
    "valid_path = \"data/valid\""
   ]
  },
  {
   "cell_type": "code",
   "execution_count": 0,
   "metadata": {
    "colab": {},
    "colab_type": "code",
    "id": "WwuTLF5MacVr"
   },
   "outputs": [],
   "source": [
    "import numpy\n",
    "import matplotlib.pyplot as plt\n",
    "import keras\n",
    "from keras.layers import *\n",
    "from keras.models import *\n",
    "from keras.preprocessing import image\n",
    "import cv2"
   ]
  },
  {
   "cell_type": "code",
   "execution_count": 0,
   "metadata": {
    "colab": {},
    "colab_type": "code",
    "id": "-r9ZUrem44nF"
   },
   "outputs": [],
   "source": [
    "train_datagen = image.ImageDataGenerator(\n",
    "    rescale = 1./255,\n",
    "    shear_range = 0.2,\n",
    "    zoom_range = 0.2,\n",
    "    horizontal_flip = True,\n",
    ")\n",
    "\n",
    "test_dataset = image.ImageDataGenerator(rescale = 1./255)"
   ]
  },
  {
   "cell_type": "code",
   "execution_count": 9,
   "metadata": {
    "colab": {
     "base_uri": "https://localhost:8080/",
     "height": 34
    },
    "colab_type": "code",
    "id": "2wiYI1525E4H",
    "outputId": "0be7d8c3-41d6-4f1b-f34c-bb534b61d34a"
   },
   "outputs": [
    {
     "name": "stdout",
     "output_type": "stream",
     "text": [
      "Found 224 images belonging to 2 classes.\n"
     ]
    }
   ],
   "source": [
    "train_generator = train_datagen.flow_from_directory(\n",
    "    train_path,\n",
    "    target_size = (224,224),\n",
    "    batch_size = 32,\n",
    "    class_mode = 'binary'\n",
    ")"
   ]
  },
  {
   "cell_type": "code",
   "execution_count": 10,
   "metadata": {
    "colab": {
     "base_uri": "https://localhost:8080/",
     "height": 34
    },
    "colab_type": "code",
    "id": "k-w5wtzP5QJj",
    "outputId": "cbc850e2-2a72-47af-f3de-c714cc9cd6cd"
   },
   "outputs": [
    {
     "name": "stdout",
     "output_type": "stream",
     "text": [
      "Found 60 images belonging to 2 classes.\n"
     ]
    }
   ],
   "source": [
    "validation_generator = test_dataset.flow_from_directory(\n",
    "    valid_path,\n",
    "    target_size = (224,224),\n",
    "    batch_size = 32,\n",
    "    class_mode = 'binary'\n",
    ")"
   ]
  },
  {
   "cell_type": "code",
   "execution_count": 0,
   "metadata": {
    "colab": {},
    "colab_type": "code",
    "id": "ZFHqdOyWaz5H"
   },
   "outputs": [],
   "source": [
    "\n",
    "model = Sequential()\n",
    "model.add(Conv2D(32,kernel_size=(3,3),activation='relu',input_shape=(224,224,3)))\n",
    "model.add(Conv2D(64,(3,3),activation='relu'))\n",
    "model.add(MaxPooling2D(pool_size=(2,2)))\n",
    "model.add(Dropout(0.25))\n",
    "\n",
    "model.add(Conv2D(64,(3,3),activation='relu'))\n",
    "model.add(MaxPooling2D(pool_size=(2,2)))\n",
    "model.add(Dropout(0.25))\n",
    "\n",
    "model.add(Conv2D(128,(3,3),activation='relu'))\n",
    "model.add(MaxPooling2D(pool_size=(2,2)))\n",
    "model.add(Dropout(0.25))\n",
    "\n",
    "model.add(Flatten())\n",
    "model.add(Dense(64,activation='relu'))\n",
    "model.add(Dropout(0.5))\n",
    "model.add(Dense(1,activation='sigmoid'))\n",
    "\n",
    "model.compile(loss=keras.losses.binary_crossentropy,optimizer='adam',metrics=['accuracy'])"
   ]
  },
  {
   "cell_type": "code",
   "execution_count": 12,
   "metadata": {
    "colab": {
     "base_uri": "https://localhost:8080/",
     "height": 629
    },
    "colab_type": "code",
    "id": "TQ1Z8BVudeNr",
    "outputId": "b945f7e1-f24c-4a04-f797-06890e70d59a"
   },
   "outputs": [
    {
     "name": "stdout",
     "output_type": "stream",
     "text": [
      "Model: \"sequential_1\"\n",
      "_________________________________________________________________\n",
      "Layer (type)                 Output Shape              Param #   \n",
      "=================================================================\n",
      "conv2d_1 (Conv2D)            (None, 222, 222, 32)      896       \n",
      "_________________________________________________________________\n",
      "conv2d_2 (Conv2D)            (None, 220, 220, 64)      18496     \n",
      "_________________________________________________________________\n",
      "max_pooling2d_1 (MaxPooling2 (None, 110, 110, 64)      0         \n",
      "_________________________________________________________________\n",
      "dropout_1 (Dropout)          (None, 110, 110, 64)      0         \n",
      "_________________________________________________________________\n",
      "conv2d_3 (Conv2D)            (None, 108, 108, 64)      36928     \n",
      "_________________________________________________________________\n",
      "max_pooling2d_2 (MaxPooling2 (None, 54, 54, 64)        0         \n",
      "_________________________________________________________________\n",
      "dropout_2 (Dropout)          (None, 54, 54, 64)        0         \n",
      "_________________________________________________________________\n",
      "conv2d_4 (Conv2D)            (None, 52, 52, 128)       73856     \n",
      "_________________________________________________________________\n",
      "max_pooling2d_3 (MaxPooling2 (None, 26, 26, 128)       0         \n",
      "_________________________________________________________________\n",
      "dropout_3 (Dropout)          (None, 26, 26, 128)       0         \n",
      "_________________________________________________________________\n",
      "flatten_1 (Flatten)          (None, 86528)             0         \n",
      "_________________________________________________________________\n",
      "dense_1 (Dense)              (None, 64)                5537856   \n",
      "_________________________________________________________________\n",
      "dropout_4 (Dropout)          (None, 64)                0         \n",
      "_________________________________________________________________\n",
      "dense_2 (Dense)              (None, 1)                 65        \n",
      "=================================================================\n",
      "Total params: 5,668,097\n",
      "Trainable params: 5,668,097\n",
      "Non-trainable params: 0\n",
      "_________________________________________________________________\n"
     ]
    }
   ],
   "source": [
    "model.summary()"
   ]
  },
  {
   "cell_type": "code",
   "execution_count": 13,
   "metadata": {
    "colab": {
     "base_uri": "https://localhost:8080/",
     "height": 887
    },
    "colab_type": "code",
    "id": "lMhcLelLgm_v",
    "outputId": "0bef7035-e5f6-4d0a-cc03-4723c0b88376"
   },
   "outputs": [
    {
     "name": "stdout",
     "output_type": "stream",
     "text": [
      "Epoch 1/25\n",
      "8/8 [==============================] - 14s 2s/step - loss: 0.7900 - accuracy: 0.5586 - val_loss: 0.6763 - val_accuracy: 0.9333\n",
      "Epoch 2/25\n",
      "8/8 [==============================] - 9s 1s/step - loss: 0.5553 - accuracy: 0.7305 - val_loss: 0.4757 - val_accuracy: 0.9333\n",
      "Epoch 3/25\n",
      "8/8 [==============================] - 10s 1s/step - loss: 0.3544 - accuracy: 0.8633 - val_loss: 0.2689 - val_accuracy: 0.9500\n",
      "Epoch 4/25\n",
      "8/8 [==============================] - 9s 1s/step - loss: 0.3323 - accuracy: 0.8789 - val_loss: 0.4378 - val_accuracy: 0.9667\n",
      "Epoch 5/25\n",
      "8/8 [==============================] - 9s 1s/step - loss: 0.2337 - accuracy: 0.9102 - val_loss: 0.0820 - val_accuracy: 0.9667\n",
      "Epoch 6/25\n",
      "8/8 [==============================] - 9s 1s/step - loss: 0.1734 - accuracy: 0.9375 - val_loss: 0.1501 - val_accuracy: 0.9833\n",
      "Epoch 7/25\n",
      "8/8 [==============================] - 9s 1s/step - loss: 0.1520 - accuracy: 0.9414 - val_loss: 0.0756 - val_accuracy: 0.9833\n",
      "Epoch 8/25\n",
      "8/8 [==============================] - 9s 1s/step - loss: 0.1481 - accuracy: 0.9375 - val_loss: 0.1075 - val_accuracy: 0.9667\n",
      "Epoch 9/25\n",
      "8/8 [==============================] - 9s 1s/step - loss: 0.1542 - accuracy: 0.9453 - val_loss: 0.0604 - val_accuracy: 0.9667\n",
      "Epoch 10/25\n",
      "8/8 [==============================] - 9s 1s/step - loss: 0.1118 - accuracy: 0.9453 - val_loss: 0.0923 - val_accuracy: 0.9833\n",
      "Epoch 11/25\n",
      "8/8 [==============================] - 9s 1s/step - loss: 0.1695 - accuracy: 0.9531 - val_loss: 0.0895 - val_accuracy: 0.9833\n",
      "Epoch 12/25\n",
      "8/8 [==============================] - 9s 1s/step - loss: 0.2076 - accuracy: 0.9336 - val_loss: 0.0286 - val_accuracy: 0.9667\n",
      "Epoch 13/25\n",
      "8/8 [==============================] - 9s 1s/step - loss: 0.1983 - accuracy: 0.9258 - val_loss: 0.1987 - val_accuracy: 0.9667\n",
      "Epoch 14/25\n",
      "8/8 [==============================] - 9s 1s/step - loss: 0.1881 - accuracy: 0.9297 - val_loss: 0.0593 - val_accuracy: 0.9833\n",
      "Epoch 15/25\n",
      "8/8 [==============================] - 9s 1s/step - loss: 0.1325 - accuracy: 0.9453 - val_loss: 0.1015 - val_accuracy: 0.9667\n",
      "Epoch 16/25\n",
      "8/8 [==============================] - 9s 1s/step - loss: 0.1719 - accuracy: 0.9297 - val_loss: 0.1443 - val_accuracy: 0.9667\n",
      "Epoch 17/25\n",
      "8/8 [==============================] - 9s 1s/step - loss: 0.1512 - accuracy: 0.9453 - val_loss: 0.0531 - val_accuracy: 0.9833\n",
      "Epoch 18/25\n",
      "8/8 [==============================] - 9s 1s/step - loss: 0.1236 - accuracy: 0.9688 - val_loss: 0.0952 - val_accuracy: 0.9833\n",
      "Epoch 19/25\n",
      "8/8 [==============================] - 9s 1s/step - loss: 0.1428 - accuracy: 0.9492 - val_loss: 0.0803 - val_accuracy: 0.9833\n",
      "Epoch 20/25\n",
      "8/8 [==============================] - 9s 1s/step - loss: 0.0885 - accuracy: 0.9688 - val_loss: 0.1086 - val_accuracy: 0.9667\n",
      "Epoch 21/25\n",
      "8/8 [==============================] - 9s 1s/step - loss: 0.0963 - accuracy: 0.9727 - val_loss: 0.0139 - val_accuracy: 0.9667\n",
      "Epoch 22/25\n",
      "8/8 [==============================] - 9s 1s/step - loss: 0.0978 - accuracy: 0.9688 - val_loss: 0.0575 - val_accuracy: 0.9833\n",
      "Epoch 23/25\n",
      "8/8 [==============================] - 9s 1s/step - loss: 0.1007 - accuracy: 0.9492 - val_loss: 0.0150 - val_accuracy: 0.9667\n",
      "Epoch 24/25\n",
      "8/8 [==============================] - 9s 1s/step - loss: 0.1071 - accuracy: 0.9453 - val_loss: 0.1109 - val_accuracy: 0.9667\n",
      "Epoch 25/25\n",
      "8/8 [==============================] - 9s 1s/step - loss: 0.1323 - accuracy: 0.9492 - val_loss: 0.1134 - val_accuracy: 0.9667\n"
     ]
    }
   ],
   "source": [
    "hist = model.fit_generator(\n",
    "    train_generator,\n",
    "    steps_per_epoch = 8,\n",
    "    epochs = 25,\n",
    "    validation_data = validation_generator,\n",
    "    validation_steps = 2\n",
    ")"
   ]
  },
  {
   "cell_type": "code",
   "execution_count": 0,
   "metadata": {
    "colab": {},
    "colab_type": "code",
    "id": "CwUC49sShkYl"
   },
   "outputs": [],
   "source": [
    "model.save(\"covid.h5\")"
   ]
  },
  {
   "cell_type": "code",
   "execution_count": 15,
   "metadata": {
    "colab": {
     "base_uri": "https://localhost:8080/",
     "height": 34
    },
    "colab_type": "code",
    "id": "8nWBtNXSi1mz",
    "outputId": "58864ade-954f-432a-9e1b-6f0c29ad3551"
   },
   "outputs": [
    {
     "data": {
      "text/plain": [
       "[0.06623698770999908, 0.9866071343421936]"
      ]
     },
     "execution_count": 15,
     "metadata": {
      "tags": []
     },
     "output_type": "execute_result"
    }
   ],
   "source": [
    "model.evaluate_generator(train_generator)"
   ]
  },
  {
   "cell_type": "code",
   "execution_count": 16,
   "metadata": {
    "colab": {
     "base_uri": "https://localhost:8080/",
     "height": 34
    },
    "colab_type": "code",
    "id": "-z_LkwlWi7Qh",
    "outputId": "10308dea-aef3-4d83-9add-e1b4d5ef6447"
   },
   "outputs": [
    {
     "data": {
      "text/plain": [
       "[0.013801808468997478, 0.9666666388511658]"
      ]
     },
     "execution_count": 16,
     "metadata": {
      "tags": []
     },
     "output_type": "execute_result"
    }
   ],
   "source": [
    "model.evaluate_generator(validation_generator)"
   ]
  },
  {
   "cell_type": "code",
   "execution_count": 0,
   "metadata": {
    "colab": {},
    "colab_type": "code",
    "id": "wEd1jJhTjCuf"
   },
   "outputs": [],
   "source": [
    "model = load_model('covid.h5')"
   ]
  },
  {
   "cell_type": "code",
   "execution_count": 0,
   "metadata": {
    "colab": {},
    "colab_type": "code",
    "id": "e-Wyz5bUjS0w"
   },
   "outputs": [],
   "source": [
    "import os\n",
    "import numpy as np"
   ]
  },
  {
   "cell_type": "code",
   "execution_count": 0,
   "metadata": {
    "colab": {},
    "colab_type": "code",
    "id": "jAkSpP-pjUUn"
   },
   "outputs": [],
   "source": [
    "y_actual = []\n",
    "y_test = []"
   ]
  },
  {
   "cell_type": "code",
   "execution_count": 0,
   "metadata": {
    "colab": {},
    "colab_type": "code",
    "id": "JWxsDbqqjbob"
   },
   "outputs": [],
   "source": [
    "for i in os.listdir(\".data/valid/normal\"):\n",
    "  img = image.load_img(\".data/valid/normal/\"+i, target_size=(224,224))\n",
    "  img = image.img_to_array(img)\n",
    "  img = np.expand_dims(img, axis=0)\n",
    "  p = model.predict_classes(img)\n",
    "  y_test.append(p[0,0])\n",
    "  y_actual.append(1)"
   ]
  },
  {
   "cell_type": "code",
   "execution_count": 0,
   "metadata": {
    "colab": {},
    "colab_type": "code",
    "id": "5bIGtguEkSCU"
   },
   "outputs": [],
   "source": [
    "for i in os.listdir(\".data/valid/covid\"):\n",
    "  img = image.load_img(\".data/valid/covid/\"+i, target_size=(224,224))\n",
    "  img = image.img_to_array(img)\n",
    "  img = np.expand_dims(img, axis=0)\n",
    "  p = model.predict_classes(img)\n",
    "  y_test.append(p[0,0])\n",
    "  y_actual.append(0)"
   ]
  },
  {
   "cell_type": "code",
   "execution_count": 0,
   "metadata": {
    "colab": {},
    "colab_type": "code",
    "id": "R6Pux7OGkk1j"
   },
   "outputs": [],
   "source": [
    "y_actual = np.array(y_actual)\n",
    "y_test = np.array(y_test)"
   ]
  },
  {
   "cell_type": "code",
   "execution_count": 23,
   "metadata": {
    "colab": {
     "base_uri": "https://localhost:8080/",
     "height": 88
    },
    "colab_type": "code",
    "id": "YC18gc5lkwnQ",
    "outputId": "67b60aa0-905e-4420-9fbe-3d03839ab3eb"
   },
   "outputs": [
    {
     "name": "stdout",
     "output_type": "stream",
     "text": [
      "[1 1 1 1 1 1 1 1 1 1 1 1 1 1 1 1 1 1 1 1 1 1 1 1 1 1 1 1 1 1 0 0 0 0 0 0 0\n",
      " 0 0 0 0 0 0 0 0 0 0 0 0 0 0 0 0 0 0 0 0 0 0 0] [1 1 1 1 1 1 1 1 1 1 1 1 1 1 1 1 1 0 1 1 1 1 1 0 1 1 1 1 1 1 0 0 0 0 0 0 0\n",
      " 0 0 0 0 0 0 0 0 0 0 0 0 0 0 0 0 0 0 0 0 0 0 0]\n"
     ]
    }
   ],
   "source": [
    "print(y_actual,y_test)"
   ]
  },
  {
   "cell_type": "code",
   "execution_count": 0,
   "metadata": {
    "colab": {},
    "colab_type": "code",
    "id": "D3J0E5XFk6HP"
   },
   "outputs": [],
   "source": [
    "from sklearn.metrics import confusion_matrix"
   ]
  },
  {
   "cell_type": "code",
   "execution_count": 0,
   "metadata": {
    "colab": {},
    "colab_type": "code",
    "id": "sGELD8EDlIBn"
   },
   "outputs": [],
   "source": [
    "cm = confusion_matrix(y_actual,y_test)"
   ]
  },
  {
   "cell_type": "code",
   "execution_count": 26,
   "metadata": {
    "colab": {
     "base_uri": "https://localhost:8080/",
     "height": 71
    },
    "colab_type": "code",
    "id": "w37axvlWlWf0",
    "outputId": "93f12968-22c3-43e4-9363-360c0dbc8ddf"
   },
   "outputs": [
    {
     "name": "stderr",
     "output_type": "stream",
     "text": [
      "/usr/local/lib/python3.6/dist-packages/statsmodels/tools/_testing.py:19: FutureWarning: pandas.util.testing is deprecated. Use the functions in the public API at pandas.testing instead.\n",
      "  import pandas.util.testing as tm\n"
     ]
    }
   ],
   "source": [
    "import seaborn as sns"
   ]
  },
  {
   "cell_type": "code",
   "execution_count": 27,
   "metadata": {
    "colab": {
     "base_uri": "https://localhost:8080/",
     "height": 269
    },
    "colab_type": "code",
    "id": "N1xFy8d3lY_3",
    "outputId": "52e7db62-e146-4d3a-e9e0-64df06e31392"
   },
   "outputs": [
    {
     "data": {
      "image/png": "iVBORw0KGgoAAAANSUhEUgAAAVoAAAD8CAYAAAA2Y2wxAAAABHNCSVQICAgIfAhkiAAAAAlwSFlzAAALEgAACxIB0t1+/AAAADh0RVh0U29mdHdhcmUAbWF0cGxvdGxpYiB2ZXJzaW9uMy4yLjEsIGh0dHA6Ly9tYXRwbG90bGliLm9yZy+j8jraAAARBElEQVR4nO3de5CV9X3H8c9nFzYKXhAQRKBivNRLOsKEwahJo7FRTOtAZjImpjE20q7T1EQmTutl0onM1I5OjMaoY7IRIu0YLyMq1HoJZUiMsV5QEbkkXqhWCBdBLeAF2D3f/rFH3ZFlz+5yfvs858f7NfObPed5zvmd78zufva3v+d5fo8jQgCAdJqKLgAAckfQAkBiBC0AJEbQAkBiBC0AJEbQAkBiBC0AdMP2Prafsv287RW2Z1W3H277Sdsv277LdkutvghaAOjedklfiIgTJE2UNNX2ZyRdI+n6iDhS0luSZtTqiKAFgG5Ep23Vp4OrLSR9QdI91e1zJU2v1degJBV2ERtO4tIz7KLp5FFFl4ASilfme4/76EPmNB3yxIWSWrtsaouItg+e2G6W9IykIyXdLOkVSW9HRHv1JWskja31OcmDFgDKqhqqbT3s75A00fYwSfdJOqY/n0PQAshLpVL3LiPibduLJZ0kaZjtQdVR7ThJa2u9nzlaAHmpVHrfemD74OpIVrb3lfRFSaskLZb0lerLzpc0v1ZJjGgBZKUvCxLWmBAeI2ludZ62SdLdEfGA7ZWS7rT9L5KekzS71ucQtACyElGff9QjYpmkSd1sXy1pSl/6ImgBZKVeQVtPBC2ArFQIWgBIixEtACRWqTQXXcIuCFoAWWFECwCJVWKPr+KtO4IWQFYY0QJAYsGIFgDS4mAYACTGiBYAEiNoASAxzjoAgMQY0QJAYlHCZbYJWgBZqVQIWgBIiqkDAEiMoAWAxAhaAEiM07sAIDEOhgFAYkwdAEBiBC0AJBZRdAW7ImgBZCXEiBYAkmLqAAAS46wDAEisUsI52vJFPwDsgQj3uvXE9njbi22vtL3C9sXV7VfaXmt7abV9qVZNjGgBZKWOc7Ttki6JiGdt7y/pGdsLq/uuj4hre9sRQQsgK/UK2ohYJ2ld9fFW26skje1PX0wdAMhKRO9bb9meIGmSpCermy6yvcz2HNsH1Xo/QQsgK5Vo6nWz3Wp7SZfW+vH+bO8naZ6kmRGxRdItko6QNFGdI94f1aqJqQMAWenL1EFEtElq291+24PVGbK3R8S91fds6LL/55IeqPU5jGgBZKVeUwe2LWm2pFURcV2X7WO6vOzLkpbXqokRLYCs1PGsg1MknSfpBdtLq9uukHSu7YmSQtKrki6s1RFBCyAr9VpUJiIek7pdOOHBvvZF0ALICpfgAkBilaIL6AZBCyArrN4FAIkRtACQGHdYAIDEGNECQGKVCkELAEmVcOaAoAWQF6YO9iLbt4e+8Z0t2rFT6uiQzjh1sL57wRCt+WOHvjdrm97eEjr+6EG65vtD1TK4fD8YGBhn/vkk3fDPf6fm5ibdetdCXfOzeUWX1PDKeDCsfJdQZKKlRbrtxwdo/i8O1H1zDtBjT+7U0hXtuvZn7+n8c/bRr+4YpgP2t+b95/aiS0VBmpqadPOVF+qsC2bpuDMv0rlnf07HHjm+6LIaXr1uZVNPNYPW9jG2L7X9k2q71PaxA1FcI7OtoUM6v5Ht7Z3Nlp54dqfO/HyLJGn61Bb91293FFkmCjTlhKP08mvr9T+vb9DOne2684HfatpfTCm6rIaXYuHvPdVj0Nq+VNKd6lxY4alqs6Q7bF+WvrzG1tERmn7B/+mUaW/p5MmD9SeHNumA/axBgzoD+JCDm7RxUwn/z8GAGDt6hF5ft+nD52vWb9bY0SMKrCgPlXCv20CpNUc7Q9LxEbGz60bb10laIenq7t5UXaW8VZJ++sPD1Xre6DqU2niam6375xyoLVsruuj727T6fzuKLgnIXiMeDKtIOlTSax/bPkY9rN3QddXy2HDSXj9kO2D/Jp04abCWrmjXlm2h9vbQoEHW+jcqGjWyfD8UGBhrN2zW+DEjP3w+7pARWrthc4EV5aERD4bNlLTI9kO226rtYUmLJF2cvrzG9ebbFW3Z2vm36P3toceX7NQnD2vWiZMG6ZHfdM7L3v/wDp3+2ZYiy0SBnl72ko6aMEYTxo3S4MGD9LW/+pwWLHqq6LIaXhnnaHsc0UbEw7aPljRFH91md62kpyOC/4N78Mbmii7713fU0dH5DZ16WotOO7lFR05o1veu3KYbbn1Pxx7VrK/85ZCiS0VBOjoqumhWmx657Uo1NzVpzj2LtPKl14suq+GVcerAkTjWmTpAd5pOHlV0CSiheGX+HqfkQ3fP7HXmnHXOjwcklblgAUBWyjhHS9ACyApBCwCJlXGOlqAFkJUKI1oASCu6vUN4sQhaAFmplPA2uAQtgKwwRwsAiXHWAQAkRtACQGJlPBjGHRYAZKVei8rYHm97se2VtlfYvri6fbjthbZfqn49qFZNBC2ArFQqvW81tEu6JCKOk/QZSf9g+zhJl0laFBFHqXMlw5o3QSBoAWSlXvcMi4h1EfFs9fFWSavUuYrhNElzqy+bK2l6rZoIWgBZiT402622l3Rprd31aXuCpEmSnpQ0OiLWVXetl1TzFjIcDAOQlb6cddD1bjC7Y3s/SfMkzYyILfZHI+GICNs1P5ERLYCs1PMOC7YHqzNkb4+Ie6ubN9geU90/RtLGWv0QtACyUq+74Lpz6Dpb0qqIuK7LrgWSzq8+Pl/S/Fo1MXUAICt1vGDhFEnnSXrB9tLqtivUeffvu23PUOeNa8+p1RFBCyAr9QraiHhM2u3VD6f3pS+CFkBWWFQGABJjrQMASKyEOUvQAsgLC38DQGLM0QJAYkwdAEBiHAwDgMQIWgBIjINhAJBYGW9lQ9ACyApTBwCQGkELAGkxogWAxEqYswQtgLxw1gEAJMbUAQAkVsKcJWgB5IURLQAkRtACQGIELQAkViFoASAtFv4GgMSYOgCAxEqYswQtgLwwogWAxColPBpG0ALISvliVmoqugAAqKeI3rdabM+xvdH28i7brrS91vbSavtSrX4IWgBZqWfQSrpN0tRutl8fEROr7cFanRC0APISfWi1uop4VNKbe1pS8jnapjMmp/4INKA3H3il6BKQqb7M0dpuldTaZVNbRLT14q0X2f6mpCWSLomIt3p6MSNaAFmpVHrfIqItIiZ3ab0J2VskHSFpoqR1kn5U6w0ELYCs1HHmoPv+IzZEREdEVCT9XNKUWu/h9C4AWYnEVyzYHhMR66pPvyxpeU+vlwhaAJmpZ87avkPSqZJG2l4j6QeSTrU9UZ2D4lclXVirH4IWQFbqGbQRcW43m2f3tR+CFkBmyndtGEELICusdQAAibF6FwAkVsKcJWgB5CX16V39QdACyEv5cpagBZCXCiNaAEirhDlL0ALIC0ELAIlFCSdpCVoAWWFECwCpEbQAkBZnHQBAYiXMWYIWQF4IWgBIrIQ5S9ACyAtrHQBAYiXMWYIWQF4IWgBIjKAFgMSYowWAxMoXswQtgMyUcEBL0ALISwlvgkvQAshMCYe0BC2ArJQwZwlaAHkpYc6qqegCAKCeInrfarE9x/ZG28u7bBtue6Htl6pfD6rVD0ELICv1DFpJt0ma+rFtl0laFBFHSVpUfd4jghZAVioRvW61RMSjkt782OZpkuZWH8+VNL1WPwQtgKz0ZURru9X2ki6ttRcfMToi1lUfr5c0utYbOBgGICt9OesgItoktfX/syJs1/xERrQAshJ9aP20wfYYSap+3VjrDQQtgLykT9oFks6vPj5f0vxab2DqAEBW6nkJru07JJ0qaaTtNZJ+IOlqSXfbniHpNUnn1OqHoAWQlXpeGRYR5+5m1+l96YegBZAVLsEFgMRY+BsAEitfzBK0ADJTwgEtQQsgLyz8DQCJMaIFgMQIWgBIrIQ5S9AOhHGjh+nfrjpPo4fvr5DUds/v9JNf/qboslCADW+0a9YNG/Tm2x2ypelnHKCvnj1ML67ermt++oZ27Ag1N1v/eOFIHX/0PkWX25AY0e6l2jsquuTa+/Tc79dovyGf0DN3/pMWPvEHrVq9vujSMMCam6XvfmukjjniE3rnvYr+5pI1mjJxiG6au1kzvnqQTv70UD2+5B3dNHezbrlqbNHlNiSCdi+1ftMWrd+0RZK07d3tWrV6vcaOOpCg3QuNHD5II4d3/toN3bdJE8YN1sbN7bKld97rTIht71Z08HB+NfuLsw6gww4drknHjNOTL7xWdCko2B837NSLq3foU0fvo5kzRmrmrHW68RebFCG1Xc1otr/KOKLt9zKJtr/Vw74PVy3X5uW7e9leZ+i+LZr3oxma+cN7tfWd94suBwV6972KLr9mvWbOGKGhQ5p078NbdPEFI7Rg9gRdfMFIXXXTG0WX2LDqfM+wutiT9Whn7W5HRLRFxOSImKwRn9qDj8jHoEFNmnfd3+r2B5fovkXPF10OCtTeHrr8mvU68/P767ST9pMkPbh4q047aagk6fRThmrlS/wh7q8BWPi7z3qcOrC9bHe71Iv75OAjs6/8a61avV7X//vioktBgSJCV920URPGtejr04Z9uH3k8GY9u/x9ffrP9tWSZe9p/JjBBVbZ2Mo4dVBrjna0pDMlvfWx7Zb0eJKKMnTKpE/qm2dP0bIX1+q5uy6VJF1x43/oocdWFlwZBtrzq97XQ7/epiMOa9F5M1+XJP39N4br8m8frOtv3aSOitQy2Lr826MKrrRxNeLBsAck7RcRSz++w/avk1SUod89t1o+4TtFl4ESmHjcvnri/iO63Tf3uvEDXE2eGm5EGxEzetj39fqXAwB7puGCFgAaTQlzlqAFkBdGtACQGEELAIk14lkHANBQCFoASIypAwBIrIQ5S9ACyEuEiy5hFwQtgKwwdQAAiXXUMWhtvyppq6QOSe0RMbk//RC0ALKSYER7WkRs2pMOCFoAWSnhzMEeLfwNAKVTid63XghJv7L9jO3W/tbEiBZAVvoydVANz64B2hYRbV2efzYi1toeJWmh7d9HxKN9rYmgBZCVjj6c3lUN1bYe9q+tft1o+z5JUyT1OWiZOgCQlXrdnNH2UNv7f/BY0hmS+nW3WUa0ALJSx7UORku6z7bUmZW/jIiH+9MRQQsgK/XK2YhYLemEevRF0ALICqt3AUBirHUAAIm1M6IFgLSYOgCAxAhaAEisIuZoASApRrQAkBhBCwCJ7SBoASAtTu8CgMQ6OBgGAGkxogWAxLgLLgCkVsKkJWgBZIagBYC0olJ0BbsgaAHkhakDAEiNES0ApMXUAQAkFu1FV7ALghZAXhjRAkBiHAwDgNQY0QJAWkwdAEBiBC0AJBYdRVewC4IWQF4Y0QJAYiUM2qaiCwCA+oo+tJ7Znmr7D7Zftn1ZfytiRAsgL3Ua0dpulnSzpC9KWiPpadsLImJlX/siaAHkpVK3g2FTJL0cEaslyfadkqZJKl/QxvM3lu9OaQWx3RoRbUXXgXLh56K+4pX5vc4c262SWrtsauvyvRgr6fUu+9ZIOrE/NTFHO7Baa78EeyF+LgoSEW0RMblLS/IHj6AFgO6tlTS+y/Nx1W19RtACQPeelnSU7cNtt0j6mqQF/emIg2EDi3k4dIefixKKiHbbF0l6RFKzpDkRsaI/fTlKuKQYAOSEqQMASIygBYDECNoBUq9L+ZAP23Nsb7S9vOhakBZBOwC6XMp3lqTjJJ1r+7hiq0IJ3CZpatFFID2CdmB8eClfROyQ9MGlfNiLRcSjkt4sug6kR9AOjO4u5RtbUC0ABhhBCwCJEbQDo26X8gFoPATtwKjbpXwAGg9BOwAiol3SB5fyrZJ0d38v5UM+bN8h6b8l/antNbZnFF0T0uASXABIjBEtACRG0AJAYgQtACRG0AJAYgQtACRG0AJAYgQtACT2/wTdhvf4d4r1AAAAAElFTkSuQmCC\n",
      "text/plain": [
       "<Figure size 432x288 with 2 Axes>"
      ]
     },
     "metadata": {
      "needs_background": "light",
      "tags": []
     },
     "output_type": "display_data"
    }
   ],
   "source": [
    "image = sns.heatmap(cm, cmap=\"cividis\", annot=True)"
   ]
  },
  {
   "cell_type": "code",
   "execution_count": 0,
   "metadata": {
    "colab": {},
    "colab_type": "code",
    "id": "-wh3pSP6lhJ-"
   },
   "outputs": [],
   "source": [
    "figure = image.get_figure()\n",
    "figure.savefig(\"confusion_matix.png\")"
   ]
  }
 ],
 "metadata": {
  "accelerator": "GPU",
  "colab": {
   "collapsed_sections": [],
   "name": "Covid19_Detector.ipynb",
   "provenance": []
  },
  "kernelspec": {
   "display_name": "Python 3",
   "language": "python",
   "name": "python3"
  },
  "language_info": {
   "codemirror_mode": {
    "name": "ipython",
    "version": 3
   },
   "file_extension": ".py",
   "mimetype": "text/x-python",
   "name": "python",
   "nbconvert_exporter": "python",
   "pygments_lexer": "ipython3",
   "version": "3.7.7"
  }
 },
 "nbformat": 4,
 "nbformat_minor": 1
}
